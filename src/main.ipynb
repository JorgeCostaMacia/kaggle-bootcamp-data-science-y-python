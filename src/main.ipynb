{
 "cells": [
  {
   "cell_type": "code",
   "execution_count": null,
   "metadata": {},
   "outputs": [],
   "source": [
    "# ==================================================================================================================\n",
    "# ===========================================> Instalación librerías <==============================================\n",
    "# ==================================================================================================================\n",
    "\n",
    "#%pip install pandas    # NO HACE FALTA INSTALAR\n",
    "#%pip install numpy     # NO HACE FALTA INSTALAR\n",
    "#%pip install pickle    # NO HACE FALTA INSTALAR\n",
    "#%pip install sklearn   # NO HACE FALTA INSTALAR\n",
    "\n",
    "#%pip install scikit-learn          # DESCOMENTAR LA PRIMERA VEZ\n",
    "#%pip install category_encoders     # DESCOMENTAR LA PRIMERA VEZ\n",
    "#%pip install lightgbm              # DESCOMENTAR LA PRIMERA VEZ\n",
    "#%pip install matplotlib            # DESCOMENTAR LA PRIMERA VEZ\n",
    "#%pip install seaborn               # DESCOMENTAR LA PRIMERA VEZ\n",
    "\n"
   ]
  },
  {
   "cell_type": "code",
   "execution_count": null,
   "metadata": {},
   "outputs": [],
   "source": [
    "# ==================================================================================================================\n",
    "# ===========================================> Carga librerías <====================================================\n",
    "# ==================================================================================================================\n",
    "\n",
    "import pandas as pd\n",
    "import numpy as np\n",
    "import pickle\n",
    "\n",
    "# Transformación de datos\n",
    "from sklearn.preprocessing import StandardScaler, MinMaxScaler, OneHotEncoder\n",
    "import category_encoders as ce\n",
    "\n",
    "# Modelos\n",
    "from sklearn.tree import DecisionTreeClassifier\n",
    "from sklearn.linear_model import LogisticRegression\n",
    "import lightgbm as lgb\n",
    "\n",
    "# Seleccion de variables y tuning de hiperparámetros\n",
    "from sklearn.feature_selection import RFECV, RFE\n",
    "from sklearn.model_selection import train_test_split, RandomizedSearchCV\n",
    "\n",
    "# Métricas para evaluar un modelo de clasificación\n",
    "from sklearn.metrics import classification_report, precision_recall_curve, auc, roc_curve, roc_auc_score, average_precision_score, confusion_matrix\n",
    "\n",
    "# Librerías para visualización de resultados\n",
    "import matplotlib.pyplot as plt\n",
    "import seaborn as sns\n",
    "\n",
    "# Tratamiento de datos\n",
    "# ------------------------------------------------------------------------------\n",
    "import numpy as np\n",
    "import pandas as pd\n",
    "import statsmodels.api as sm\n",
    "\n",
    "# Gráficos\n",
    "# ------------------------------------------------------------------------------\n",
    "import matplotlib.pyplot as plt\n",
    "import seaborn as sns\n",
    "\n",
    "# Preprocesado y modelado\n",
    "# ------------------------------------------------------------------------------\n",
    "import numpy as np\n",
    "from sklearn.impute import SimpleImputer\n",
    "from sklearn.compose import ColumnTransformer\n",
    "from sklearn.preprocessing import OneHotEncoder\n",
    "from sklearn.model_selection import train_test_split\n",
    "from sklearn.tree import DecisionTreeClassifier, plot_tree, export_graphviz, export_text\n",
    "from sklearn.model_selection import GridSearchCV\n",
    "#from sklearn.metrics import accuracy_score, confusion_matrix, auc, plot_roc_curve, roc_curve, classification_report\n",
    "from sklearn.metrics import accuracy_score, confusion_matrix, auc, RocCurveDisplay , roc_curve, classification_report\n",
    "\n",
    "# Para que no se corten el listado de filas y columnas al ejecutar instrucciones\n",
    "pd.set_option('display.max_columns', None)\n",
    "pd.set_option('display.max_rows', None)"
   ]
  },
  {
   "cell_type": "code",
   "execution_count": 26,
   "metadata": {},
   "outputs": [],
   "source": [
    "# ==================================================================================================================\n",
    "# ===========================================> Carga Datos <========================================================\n",
    "# ==================================================================================================================\n",
    "\n",
    "\n",
    "#datos = pd.read_csv('../data/train.csv', low_memory=False)\n",
    "datos = pd.read_csv('../data/train_dev.csv', low_memory=False)         # 20.000 filas del fichero train para trabajar en desarrollo"
   ]
  },
  {
   "attachments": {},
   "cell_type": "markdown",
   "metadata": {},
   "source": [
    "# =====================> EDA"
   ]
  },
  {
   "cell_type": "code",
   "execution_count": null,
   "metadata": {},
   "outputs": [],
   "source": [
    "# ==================================================================================================================\n",
    "# ===========================================> Exploración número de columnas <=====================================\n",
    "# ==================================================================================================================\n",
    "\n",
    "len(datos.columns)"
   ]
  },
  {
   "cell_type": "code",
   "execution_count": null,
   "metadata": {},
   "outputs": [],
   "source": [
    "# ==================================================================================================================\n",
    "# ===========================================> Exploración estadisticas basicas col numericas <=====================\n",
    "# ==================================================================================================================\n",
    "\n",
    "datos.describe()"
   ]
  },
  {
   "cell_type": "code",
   "execution_count": null,
   "metadata": {},
   "outputs": [],
   "source": [
    "# ==================================================================================================================\n",
    "# ===========================================> Exploración estadisticas basicas col objectos <=====================\n",
    "# ==================================================================================================================\n",
    "\n",
    "datos.describe(include=object)"
   ]
  },
  {
   "cell_type": "code",
   "execution_count": null,
   "metadata": {},
   "outputs": [],
   "source": [
    "# ==================================================================================================================\n",
    "# ===========================================> Exploración 20 primeras filas <======================================\n",
    "# ==================================================================================================================\n",
    "\n",
    "datos.head(20)"
   ]
  },
  {
   "cell_type": "code",
   "execution_count": null,
   "metadata": {},
   "outputs": [],
   "source": [
    "# ==================================================================================================================\n",
    "# ===========================================> Exploración tipos <==================================================\n",
    "# ==================================================================================================================\n",
    "\n",
    "datos.info()"
   ]
  },
  {
   "cell_type": "code",
   "execution_count": null,
   "metadata": {},
   "outputs": [],
   "source": [
    "# ==================================================================================================================\n",
    "# ===========================================> Exploración nulos <==================================================\n",
    "# ==================================================================================================================\n",
    "\n",
    "datos.isna().sum().sort_values(ascending=False)"
   ]
  },
  {
   "cell_type": "code",
   "execution_count": null,
   "metadata": {},
   "outputs": [],
   "source": [
    "# ==================================================================================================================\n",
    "# ===========================================> Exploración valores y estadísticas <=================================\n",
    "# ==================================================================================================================\n",
    "\n",
    "stats_1 = []\n",
    "# Unique Values         col \n",
    "# Unique Values         datos[col].nunique() \n",
    "# Unique Values %       (datos[col].nunique() / datos[col].count()) * 100\n",
    "# Missing Values %      datos[col].isnull().sum() * 100 / datos.shape[0]\n",
    "# Biggest Category %    datos[col].value_counts(normalize=True, dropna=False).values[0] * 100\n",
    "# Type                  datos[col].dtype\n",
    "\n",
    "for col in datos.columns:\n",
    "    stats_1.append((col, datos[col].nunique(), (datos[col].nunique() / datos[col].count()) * 100, datos[col].isnull().sum() * 100 / datos.shape[0], datos[col].value_counts(normalize=True, dropna=False).values[0] * 100, datos[col].dtype))\n",
    "    \n",
    "stats = pd.DataFrame(stats_1, columns=['Feature', 'Unique Values', 'Unique Values %', 'Missing Values %', 'Biggest Category %', 'Type'])\n",
    "stats.sort_values('Unique Values %', ascending=False)"
   ]
  },
  {
   "cell_type": "code",
   "execution_count": 27,
   "metadata": {},
   "outputs": [
    {
     "data": {
      "text/plain": [
       "['DefaultBrowsersIdentifier',\n",
       " 'PuaMode',\n",
       " 'Census_ProcessorClass',\n",
       " 'Census_InternalBatteryType',\n",
       " 'Census_IsFlightingInternal']"
      ]
     },
     "execution_count": 27,
     "metadata": {},
     "output_type": "execute_result"
    }
   ],
   "source": [
    "# ==================================================================================================================\n",
    "# ===========================================> Eliminar valores nulos <=============================================\n",
    "# ==================================================================================================================\n",
    "\n",
    "drop_cols_min_nulls = 0.7\n",
    "drop_cols_nulls = []\n",
    "\n",
    "for col in datos.columns:\n",
    "    if datos[col].isna().sum() / len(datos) >= drop_cols_min_nulls:\n",
    "        drop_cols_nulls.append(col)\n",
    "\n",
    "datos.drop(columns=drop_cols_nulls, inplace=True)\n",
    "\n",
    "drop_cols_nulls"
   ]
  },
  {
   "cell_type": "code",
   "execution_count": 28,
   "metadata": {},
   "outputs": [
    {
     "data": {
      "text/plain": [
       "['ProductName',\n",
       " 'IsBeta',\n",
       " 'RtpStateBitfield',\n",
       " 'IsSxsPassiveMode',\n",
       " 'AVProductsInstalled',\n",
       " 'AVProductsEnabled',\n",
       " 'HasTpm',\n",
       " 'Platform',\n",
       " 'Processor',\n",
       " 'OsVer',\n",
       " 'IsProtected',\n",
       " 'AutoSampleOptIn',\n",
       " 'SMode',\n",
       " 'Firewall',\n",
       " 'UacLuaenable',\n",
       " 'Census_DeviceFamily',\n",
       " 'Census_ProcessorManufacturerIdentifier',\n",
       " 'Census_HasOpticalDiskDrive',\n",
       " 'Census_OSArchitecture',\n",
       " 'Census_IsPortableOperatingSystem',\n",
       " 'Census_GenuineStateName',\n",
       " 'Census_IsFlightsDisabled',\n",
       " 'Census_FlightRing',\n",
       " 'Census_IsVirtualDevice',\n",
       " 'Census_IsTouchEnabled',\n",
       " 'Census_IsPenCapable',\n",
       " 'Census_IsAlwaysOnAlwaysConnectedCapable']"
      ]
     },
     "execution_count": 28,
     "metadata": {},
     "output_type": "execute_result"
    }
   ],
   "source": [
    "# ==================================================================================================================\n",
    "# ===========================================> Eliminar valores mal balanceados <===================================\n",
    "# ==================================================================================================================\n",
    "\n",
    "drop_cols_min_big_cat = 70\n",
    "drop_cols_big_cat = []\n",
    "\n",
    "for col in datos.columns:\n",
    "    if datos[col].value_counts(normalize=True, dropna=False).values[0] * 100 >= drop_cols_min_big_cat:\n",
    "        drop_cols_big_cat.append(col) \n",
    "\n",
    "datos.drop(columns=drop_cols_big_cat, inplace=True)\n",
    "\n",
    "drop_cols_big_cat"
   ]
  },
  {
   "cell_type": "code",
   "execution_count": null,
   "metadata": {},
   "outputs": [],
   "source": [
    "# ==================================================================================================================\n",
    "# ===========================================> Eliminar valores identificadores <===================================\n",
    "# ==================================================================================================================\n",
    "\n",
    "drop_cols_id = []\n",
    "\n",
    "datos.drop(columns=drop_cols_id, inplace=True)\n",
    "\n",
    "drop_cols_id"
   ]
  },
  {
   "cell_type": "code",
   "execution_count": 29,
   "metadata": {},
   "outputs": [
    {
     "data": {
      "text/plain": [
       "['MachineIdentifier',\n",
       " 'EngineVersion',\n",
       " 'AppVersion',\n",
       " 'AvSigVersion',\n",
       " 'OsPlatformSubRelease',\n",
       " 'OsBuildLab',\n",
       " 'SkuEdition',\n",
       " 'SmartScreen',\n",
       " 'Census_MDC2FormFactor',\n",
       " 'Census_PrimaryDiskTypeName',\n",
       " 'Census_ChassisTypeName',\n",
       " 'Census_PowerPlatformRoleName',\n",
       " 'Census_OSVersion',\n",
       " 'Census_OSBranch',\n",
       " 'Census_OSEdition',\n",
       " 'Census_OSSkuName',\n",
       " 'Census_OSInstallTypeName',\n",
       " 'Census_OSWUAutoUpdateOptionsName',\n",
       " 'Census_ActivationChannel']"
      ]
     },
     "execution_count": 29,
     "metadata": {},
     "output_type": "execute_result"
    }
   ],
   "source": [
    "# ==================================================================================================================\n",
    "# ===========================================> Separar datos por tipos categoricas <================================\n",
    "# ==================================================================================================================\n",
    "\n",
    "cat_cols = datos.select_dtypes(include=['object', 'category']).columns.to_list()\n",
    "\n",
    "cat_cols"
   ]
  },
  {
   "cell_type": "code",
   "execution_count": 30,
   "metadata": {},
   "outputs": [
    {
     "data": {
      "text/plain": [
       "['AVProductStatesIdentifier',\n",
       " 'CountryIdentifier',\n",
       " 'CityIdentifier',\n",
       " 'OrganizationIdentifier',\n",
       " 'GeoNameIdentifier',\n",
       " 'LocaleEnglishNameIdentifier',\n",
       " 'OsBuild',\n",
       " 'OsSuite',\n",
       " 'IeVerIdentifier',\n",
       " 'Census_OEMNameIdentifier',\n",
       " 'Census_OEMModelIdentifier',\n",
       " 'Census_ProcessorCoreCount',\n",
       " 'Census_ProcessorModelIdentifier',\n",
       " 'Census_PrimaryDiskTotalCapacity',\n",
       " 'Census_SystemVolumeTotalCapacity',\n",
       " 'Census_TotalPhysicalRAM',\n",
       " 'Census_InternalPrimaryDiagonalDisplaySizeInInches',\n",
       " 'Census_InternalPrimaryDisplayResolutionHorizontal',\n",
       " 'Census_InternalPrimaryDisplayResolutionVertical',\n",
       " 'Census_InternalBatteryNumberOfCharges',\n",
       " 'Census_OSBuildNumber',\n",
       " 'Census_OSBuildRevision',\n",
       " 'Census_OSInstallLanguageIdentifier',\n",
       " 'Census_OSUILocaleIdentifier',\n",
       " 'Census_ThresholdOptIn',\n",
       " 'Census_FirmwareManufacturerIdentifier',\n",
       " 'Census_FirmwareVersionIdentifier',\n",
       " 'Census_IsSecureBootEnabled',\n",
       " 'Census_IsWIMBootEnabled',\n",
       " 'Wdft_IsGamer',\n",
       " 'Wdft_RegionIdentifier']"
      ]
     },
     "execution_count": 30,
     "metadata": {},
     "output_type": "execute_result"
    }
   ],
   "source": [
    "# ==================================================================================================================\n",
    "# ===========================================> Separar datos por tipos numericas <==================================\n",
    "# ==================================================================================================================\n",
    "\n",
    "numeric_cols = datos.select_dtypes(include=['float64', 'int64']).columns.to_list()\n",
    "numeric_cols.remove('HasDetections') # Posibles labels HasDetections or IsProtected\n",
    "\n",
    "numeric_cols"
   ]
  },
  {
   "cell_type": "code",
   "execution_count": 31,
   "metadata": {},
   "outputs": [
    {
     "data": {
      "text/plain": [
       "['AVProductStatesIdentifier',\n",
       " 'CountryIdentifier',\n",
       " 'CityIdentifier',\n",
       " 'GeoNameIdentifier',\n",
       " 'Census_OEMNameIdentifier',\n",
       " 'Census_OEMModelIdentifier',\n",
       " 'Census_ProcessorModelIdentifier',\n",
       " 'Census_PrimaryDiskTotalCapacity',\n",
       " 'Census_SystemVolumeTotalCapacity',\n",
       " 'Census_InternalPrimaryDiagonalDisplaySizeInInches',\n",
       " 'Census_InternalBatteryNumberOfCharges',\n",
       " 'Census_FirmwareVersionIdentifier']"
      ]
     },
     "execution_count": 31,
     "metadata": {},
     "output_type": "execute_result"
    }
   ],
   "source": [
    "# ==================================================================================================================\n",
    "# ===========================================> Separar datos numericas a categoricas <==============================\n",
    "# ==================================================================================================================\n",
    "\n",
    "numeric_cols_cat_min = 1\n",
    "numeric_cols_cat = []\n",
    "\n",
    "for col in numeric_cols:\n",
    "    if (datos[col].nunique() / datos[col].count()) * 100 >= numeric_cols_cat_min:\n",
    "        numeric_cols_cat.append(col) \n",
    "\n",
    "for col in numeric_cols_cat:\n",
    "    cat_cols.append(col)\n",
    "\n",
    "for col in numeric_cols_cat:\n",
    "    datos[col] = datos[col].astype(\"category\")\n",
    "\n",
    "for col in numeric_cols_cat:\n",
    "    numeric_cols.remove(col)\n",
    "    \n",
    "numeric_cols_cat"
   ]
  },
  {
   "cell_type": "code",
   "execution_count": 32,
   "metadata": {},
   "outputs": [],
   "source": [
    "# ==================================================================================================================\n",
    "# ===========================================> Cambiar tipo numericas a categoricas <===============================\n",
    "# ==================================================================================================================\n",
    "\n",
    "for col in numeric_cols_cat:\n",
    "    datos[col] = datos[col].astype(\"object\")\n"
   ]
  },
  {
   "cell_type": "code",
   "execution_count": 33,
   "metadata": {},
   "outputs": [
    {
     "data": {
      "text/plain": [
       "MachineIdentifier                                        0\n",
       "EngineVersion                                            0\n",
       "AppVersion                                               0\n",
       "AvSigVersion                                             0\n",
       "AVProductStatesIdentifier                                0\n",
       "CountryIdentifier                                        0\n",
       "CityIdentifier                                           0\n",
       "OrganizationIdentifier                                6164\n",
       "GeoNameIdentifier                                        0\n",
       "LocaleEnglishNameIdentifier                              0\n",
       "OsBuild                                                  0\n",
       "OsSuite                                                  0\n",
       "OsPlatformSubRelease                                     0\n",
       "OsBuildLab                                               0\n",
       "SkuEdition                                               0\n",
       "IeVerIdentifier                                        128\n",
       "SmartScreen                                              0\n",
       "Census_MDC2FormFactor                                    0\n",
       "Census_OEMNameIdentifier                                 0\n",
       "Census_OEMModelIdentifier                                0\n",
       "Census_ProcessorCoreCount                              104\n",
       "Census_ProcessorModelIdentifier                          0\n",
       "Census_PrimaryDiskTotalCapacity                          0\n",
       "Census_PrimaryDiskTypeName                               0\n",
       "Census_SystemVolumeTotalCapacity                         0\n",
       "Census_TotalPhysicalRAM                                179\n",
       "Census_ChassisTypeName                                   0\n",
       "Census_InternalPrimaryDiagonalDisplaySizeInInches        0\n",
       "Census_InternalPrimaryDisplayResolutionHorizontal      101\n",
       "Census_InternalPrimaryDisplayResolutionVertical        101\n",
       "Census_PowerPlatformRoleName                             0\n",
       "Census_InternalBatteryNumberOfCharges                    0\n",
       "Census_OSVersion                                         0\n",
       "Census_OSBranch                                          0\n",
       "Census_OSBuildNumber                                     0\n",
       "Census_OSBuildRevision                                   0\n",
       "Census_OSEdition                                         0\n",
       "Census_OSSkuName                                         0\n",
       "Census_OSInstallTypeName                                 0\n",
       "Census_OSInstallLanguageIdentifier                     123\n",
       "Census_OSUILocaleIdentifier                              0\n",
       "Census_OSWUAutoUpdateOptionsName                         0\n",
       "Census_ActivationChannel                                 0\n",
       "Census_ThresholdOptIn                                12607\n",
       "Census_FirmwareManufacturerIdentifier                  414\n",
       "Census_FirmwareVersionIdentifier                         0\n",
       "Census_IsSecureBootEnabled                               0\n",
       "Census_IsWIMBootEnabled                              12590\n",
       "Wdft_IsGamer                                           658\n",
       "Wdft_RegionIdentifier                                  658\n",
       "HasDetections                                            0\n",
       "dtype: int64"
      ]
     },
     "execution_count": 33,
     "metadata": {},
     "output_type": "execute_result"
    }
   ],
   "source": [
    "# ==================================================================================================================\n",
    "# ===========================================> Imputar nulos para tipos categoricas <===============================\n",
    "# ==================================================================================================================\n",
    "\n",
    "imp_cat = SimpleImputer(missing_values=np.nan, strategy='most_frequent')\n",
    "datos[cat_cols] = imp_cat.fit_transform(datos[cat_cols])\n",
    "\n",
    "datos.isnull().sum()"
   ]
  },
  {
   "cell_type": "code",
   "execution_count": 34,
   "metadata": {},
   "outputs": [
    {
     "data": {
      "text/plain": [
       "MachineIdentifier                                    0\n",
       "EngineVersion                                        0\n",
       "AppVersion                                           0\n",
       "AvSigVersion                                         0\n",
       "AVProductStatesIdentifier                            0\n",
       "CountryIdentifier                                    0\n",
       "CityIdentifier                                       0\n",
       "OrganizationIdentifier                               0\n",
       "GeoNameIdentifier                                    0\n",
       "LocaleEnglishNameIdentifier                          0\n",
       "OsBuild                                              0\n",
       "OsSuite                                              0\n",
       "OsPlatformSubRelease                                 0\n",
       "OsBuildLab                                           0\n",
       "SkuEdition                                           0\n",
       "IeVerIdentifier                                      0\n",
       "SmartScreen                                          0\n",
       "Census_MDC2FormFactor                                0\n",
       "Census_OEMNameIdentifier                             0\n",
       "Census_OEMModelIdentifier                            0\n",
       "Census_ProcessorCoreCount                            0\n",
       "Census_ProcessorModelIdentifier                      0\n",
       "Census_PrimaryDiskTotalCapacity                      0\n",
       "Census_PrimaryDiskTypeName                           0\n",
       "Census_SystemVolumeTotalCapacity                     0\n",
       "Census_TotalPhysicalRAM                              0\n",
       "Census_ChassisTypeName                               0\n",
       "Census_InternalPrimaryDiagonalDisplaySizeInInches    0\n",
       "Census_InternalPrimaryDisplayResolutionHorizontal    0\n",
       "Census_InternalPrimaryDisplayResolutionVertical      0\n",
       "Census_PowerPlatformRoleName                         0\n",
       "Census_InternalBatteryNumberOfCharges                0\n",
       "Census_OSVersion                                     0\n",
       "Census_OSBranch                                      0\n",
       "Census_OSBuildNumber                                 0\n",
       "Census_OSBuildRevision                               0\n",
       "Census_OSEdition                                     0\n",
       "Census_OSSkuName                                     0\n",
       "Census_OSInstallTypeName                             0\n",
       "Census_OSInstallLanguageIdentifier                   0\n",
       "Census_OSUILocaleIdentifier                          0\n",
       "Census_OSWUAutoUpdateOptionsName                     0\n",
       "Census_ActivationChannel                             0\n",
       "Census_ThresholdOptIn                                0\n",
       "Census_FirmwareManufacturerIdentifier                0\n",
       "Census_FirmwareVersionIdentifier                     0\n",
       "Census_IsSecureBootEnabled                           0\n",
       "Census_IsWIMBootEnabled                              0\n",
       "Wdft_IsGamer                                         0\n",
       "Wdft_RegionIdentifier                                0\n",
       "HasDetections                                        0\n",
       "dtype: int64"
      ]
     },
     "execution_count": 34,
     "metadata": {},
     "output_type": "execute_result"
    }
   ],
   "source": [
    "# ==================================================================================================================\n",
    "# ===========================================> Imputar nulos para tipos numericas <=================================\n",
    "# ==================================================================================================================\n",
    "\n",
    "imp_num = SimpleImputer(missing_values=np.nan, strategy='mean')\n",
    "datos[numeric_cols] = imp_num.fit_transform(datos[numeric_cols])\n",
    "\n",
    "datos.isnull().sum()"
   ]
  },
  {
   "cell_type": "code",
   "execution_count": 35,
   "metadata": {},
   "outputs": [
    {
     "data": {
      "text/plain": [
       "[]"
      ]
     },
     "execution_count": 35,
     "metadata": {},
     "output_type": "execute_result"
    }
   ],
   "source": [
    "# ==================================================================================================================\n",
    "# ===========================================> Procesar mascaras y versiones 3 partes <=============================\n",
    "# ==================================================================================================================\n",
    "\n",
    "mask_cols_3 = []\n",
    "\n",
    "for col in datos.columns:\n",
    "    if datos[col].notnull().all() and datos[col].astype(str).apply(lambda x: x.count('.') == 2).all():\n",
    "        mask_cols_3.append(c)\n",
    "\n",
    "for col in mask_cols_3:\n",
    "    datos[[col + \"_1\", col + \"_2\", col + \"_3\"]] = datos[col].str.split(\".\", expand=True)\n",
    "\n",
    "for col in mask_cols_3:\n",
    "    cat_cols.remove(col)\n",
    "    cat_cols.append(col + \"_1\")\n",
    "    cat_cols.append(col + \"_2\")\n",
    "    cat_cols.append(col + \"_3\")\n",
    "\n",
    "datos.drop(columns=mask_cols_3, inplace=True)\n",
    "\n",
    "mask_cols_3"
   ]
  },
  {
   "cell_type": "code",
   "execution_count": 36,
   "metadata": {},
   "outputs": [
    {
     "data": {
      "text/plain": [
       "['EngineVersion', 'AppVersion', 'AvSigVersion', 'Census_OSVersion']"
      ]
     },
     "execution_count": 36,
     "metadata": {},
     "output_type": "execute_result"
    }
   ],
   "source": [
    "# ==================================================================================================================\n",
    "# ===========================================> Procesar mascaras y versiones 4 partes <=============================\n",
    "# ==================================================================================================================\n",
    "\n",
    "mask_cols_4 = []\n",
    "\n",
    "for col in datos.columns:\n",
    "    if datos[col].notnull().all() and datos[col].astype(str).apply(lambda x: x.count('.') == 3).all():\n",
    "        mask_cols_4.append(col)\n",
    "\n",
    "for col in mask_cols_4:\n",
    "    datos[[col + \"_1\", col + \"_2\", col + \"_3\", col + \"_4\"]] = datos[col].str.split(\".\", expand=True)\n",
    "\n",
    "for col in mask_cols_4:\n",
    "    cat_cols.remove(col)\n",
    "    cat_cols.append(col + \"_1\")\n",
    "    cat_cols.append(col + \"_2\")\n",
    "    cat_cols.append(col + \"_3\")\n",
    "    cat_cols.append(col + \"_4\")\n",
    "\n",
    "datos.drop(columns=mask_cols_4, inplace=True)\n",
    "\n",
    "mask_cols_4"
   ]
  },
  {
   "cell_type": "code",
   "execution_count": 37,
   "metadata": {},
   "outputs": [
    {
     "data": {
      "text/plain": [
       "['OsBuildLab']"
      ]
     },
     "execution_count": 37,
     "metadata": {},
     "output_type": "execute_result"
    }
   ],
   "source": [
    "# ==================================================================================================================\n",
    "# ===========================================> Procesar mascaras y versiones 5 partes <=============================\n",
    "# ==================================================================================================================\n",
    "\n",
    "mask_cols_5 = []\n",
    "\n",
    "for col in datos.columns:\n",
    "    if datos[col].notnull().all() and datos[col].astype(str).apply(lambda x: x.count('.') == 4).all():\n",
    "        mask_cols_5.append(col)\n",
    "\n",
    "for col in mask_cols_5:\n",
    "    datos[[col + \"_1\", col + \"_2\", col + \"_3\", col + \"_4\", col + \"_5\"]] = datos[col].str.split(\".\", expand=True)\n",
    "\n",
    "for col in mask_cols_5:\n",
    "    cat_cols.remove(col)\n",
    "    cat_cols.append(col + \"_1\")\n",
    "    cat_cols.append(col + \"_2\")\n",
    "    cat_cols.append(col + \"_3\")\n",
    "    cat_cols.append(col + \"_4\")\n",
    "    cat_cols.append(col + \"_5\")\n",
    "\n",
    "datos.drop(columns=mask_cols_5, inplace=True)\n",
    "\n",
    "mask_cols_5"
   ]
  },
  {
   "cell_type": "code",
   "execution_count": 38,
   "metadata": {},
   "outputs": [
    {
     "data": {
      "text/plain": [
       "[]"
      ]
     },
     "execution_count": 38,
     "metadata": {},
     "output_type": "execute_result"
    }
   ],
   "source": [
    "# ==================================================================================================================\n",
    "# ===========================================> Procesar mascaras y versiones 6 partes <=============================\n",
    "# ==================================================================================================================\n",
    "\n",
    "mask_cols_6 = []\n",
    "\n",
    "for c in datos.columns:\n",
    "    if datos[c].notnull().all() and datos[c].astype(str).apply(lambda x: x.count('.') == 5).all():\n",
    "        mask_cols_6.append(c)\n",
    "\n",
    "for c in mask_cols_6:\n",
    "    datos[[col + \"_1\", col + \"_2\", col + \"_3\", col + \"_4\", col + \"_5\", col + \"_6\"]] = datos[c].str.split(\".\", expand=True)\n",
    "\n",
    "for col in mask_cols_6:\n",
    "    cat_cols.remove(col)\n",
    "    cat_cols.append(col + \"_1\")\n",
    "    cat_cols.append(col + \"_2\")\n",
    "    cat_cols.append(col + \"_3\")\n",
    "    cat_cols.append(col + \"_4\")\n",
    "    cat_cols.append(col + \"_5\")\n",
    "    cat_cols.append(col + \"_6\")\n",
    "\n",
    "datos.drop(columns=mask_cols_6, inplace=True)\n",
    "\n",
    "mask_cols_6"
   ]
  },
  {
   "cell_type": "code",
   "execution_count": 40,
   "metadata": {},
   "outputs": [
    {
     "data": {
      "text/plain": [
       "['MachineIdentifier',\n",
       " 'EngineVersion',\n",
       " 'AppVersion',\n",
       " 'AvSigVersion',\n",
       " 'OsPlatformSubRelease',\n",
       " 'OsBuildLab',\n",
       " 'SkuEdition',\n",
       " 'SmartScreen',\n",
       " 'Census_MDC2FormFactor',\n",
       " 'Census_PrimaryDiskTypeName',\n",
       " 'Census_ChassisTypeName',\n",
       " 'Census_PowerPlatformRoleName',\n",
       " 'Census_OSVersion',\n",
       " 'Census_OSBranch',\n",
       " 'Census_OSEdition',\n",
       " 'Census_OSSkuName',\n",
       " 'Census_OSInstallTypeName',\n",
       " 'Census_OSWUAutoUpdateOptionsName',\n",
       " 'Census_ActivationChannel',\n",
       " 'AVProductStatesIdentifier',\n",
       " 'CountryIdentifier',\n",
       " 'CityIdentifier',\n",
       " 'GeoNameIdentifier',\n",
       " 'Census_OEMNameIdentifier',\n",
       " 'Census_OEMModelIdentifier',\n",
       " 'Census_ProcessorModelIdentifier',\n",
       " 'Census_PrimaryDiskTotalCapacity',\n",
       " 'Census_SystemVolumeTotalCapacity',\n",
       " 'Census_InternalPrimaryDiagonalDisplaySizeInInches',\n",
       " 'Census_InternalBatteryNumberOfCharges',\n",
       " 'Census_FirmwareVersionIdentifier']"
      ]
     },
     "execution_count": 40,
     "metadata": {},
     "output_type": "execute_result"
    }
   ],
   "source": [
    "cat_cols"
   ]
  },
  {
   "cell_type": "code",
   "execution_count": 39,
   "metadata": {},
   "outputs": [
    {
     "ename": "KeyError",
     "evalue": "\"['EngineVersion', 'AppVersion', 'AvSigVersion', 'OsBuildLab', 'Census_OSVersion'] not in index\"",
     "output_type": "error",
     "traceback": [
      "\u001b[1;31m---------------------------------------------------------------------------\u001b[0m",
      "\u001b[1;31mKeyError\u001b[0m                                  Traceback (most recent call last)",
      "Cell \u001b[1;32mIn[39], line 6\u001b[0m\n\u001b[0;32m      1\u001b[0m \u001b[39m# ==================================================================================================================\u001b[39;00m\n\u001b[0;32m      2\u001b[0m \u001b[39m# ===========================================> Ordenar variables <==================================================\u001b[39;00m\n\u001b[0;32m      3\u001b[0m \u001b[39m# ==================================================================================================================\u001b[39;00m\n\u001b[0;32m      5\u001b[0m ordered_columns \u001b[39m=\u001b[39m cat_cols\u001b[39m+\u001b[39mnumeric_cols\n\u001b[1;32m----> 6\u001b[0m datos \u001b[39m=\u001b[39m datos[ordered_columns\u001b[39m+\u001b[39;49m[\u001b[39m'\u001b[39;49m\u001b[39mHasDetections\u001b[39;49m\u001b[39m'\u001b[39;49m]]\n",
      "File \u001b[1;32mc:\\Python311\\Lib\\site-packages\\pandas\\core\\frame.py:3767\u001b[0m, in \u001b[0;36mDataFrame.__getitem__\u001b[1;34m(self, key)\u001b[0m\n\u001b[0;32m   3765\u001b[0m     \u001b[39mif\u001b[39;00m is_iterator(key):\n\u001b[0;32m   3766\u001b[0m         key \u001b[39m=\u001b[39m \u001b[39mlist\u001b[39m(key)\n\u001b[1;32m-> 3767\u001b[0m     indexer \u001b[39m=\u001b[39m \u001b[39mself\u001b[39;49m\u001b[39m.\u001b[39;49mcolumns\u001b[39m.\u001b[39;49m_get_indexer_strict(key, \u001b[39m\"\u001b[39;49m\u001b[39mcolumns\u001b[39;49m\u001b[39m\"\u001b[39;49m)[\u001b[39m1\u001b[39m]\n\u001b[0;32m   3769\u001b[0m \u001b[39m# take() does not accept boolean indexers\u001b[39;00m\n\u001b[0;32m   3770\u001b[0m \u001b[39mif\u001b[39;00m \u001b[39mgetattr\u001b[39m(indexer, \u001b[39m\"\u001b[39m\u001b[39mdtype\u001b[39m\u001b[39m\"\u001b[39m, \u001b[39mNone\u001b[39;00m) \u001b[39m==\u001b[39m \u001b[39mbool\u001b[39m:\n",
      "File \u001b[1;32mc:\\Python311\\Lib\\site-packages\\pandas\\core\\indexes\\base.py:5876\u001b[0m, in \u001b[0;36mIndex._get_indexer_strict\u001b[1;34m(self, key, axis_name)\u001b[0m\n\u001b[0;32m   5873\u001b[0m \u001b[39melse\u001b[39;00m:\n\u001b[0;32m   5874\u001b[0m     keyarr, indexer, new_indexer \u001b[39m=\u001b[39m \u001b[39mself\u001b[39m\u001b[39m.\u001b[39m_reindex_non_unique(keyarr)\n\u001b[1;32m-> 5876\u001b[0m \u001b[39mself\u001b[39;49m\u001b[39m.\u001b[39;49m_raise_if_missing(keyarr, indexer, axis_name)\n\u001b[0;32m   5878\u001b[0m keyarr \u001b[39m=\u001b[39m \u001b[39mself\u001b[39m\u001b[39m.\u001b[39mtake(indexer)\n\u001b[0;32m   5879\u001b[0m \u001b[39mif\u001b[39;00m \u001b[39misinstance\u001b[39m(key, Index):\n\u001b[0;32m   5880\u001b[0m     \u001b[39m# GH 42790 - Preserve name from an Index\u001b[39;00m\n",
      "File \u001b[1;32mc:\\Python311\\Lib\\site-packages\\pandas\\core\\indexes\\base.py:5938\u001b[0m, in \u001b[0;36mIndex._raise_if_missing\u001b[1;34m(self, key, indexer, axis_name)\u001b[0m\n\u001b[0;32m   5935\u001b[0m     \u001b[39mraise\u001b[39;00m \u001b[39mKeyError\u001b[39;00m(\u001b[39mf\u001b[39m\u001b[39m\"\u001b[39m\u001b[39mNone of [\u001b[39m\u001b[39m{\u001b[39;00mkey\u001b[39m}\u001b[39;00m\u001b[39m] are in the [\u001b[39m\u001b[39m{\u001b[39;00maxis_name\u001b[39m}\u001b[39;00m\u001b[39m]\u001b[39m\u001b[39m\"\u001b[39m)\n\u001b[0;32m   5937\u001b[0m not_found \u001b[39m=\u001b[39m \u001b[39mlist\u001b[39m(ensure_index(key)[missing_mask\u001b[39m.\u001b[39mnonzero()[\u001b[39m0\u001b[39m]]\u001b[39m.\u001b[39munique())\n\u001b[1;32m-> 5938\u001b[0m \u001b[39mraise\u001b[39;00m \u001b[39mKeyError\u001b[39;00m(\u001b[39mf\u001b[39m\u001b[39m\"\u001b[39m\u001b[39m{\u001b[39;00mnot_found\u001b[39m}\u001b[39;00m\u001b[39m not in index\u001b[39m\u001b[39m\"\u001b[39m)\n",
      "\u001b[1;31mKeyError\u001b[0m: \"['EngineVersion', 'AppVersion', 'AvSigVersion', 'OsBuildLab', 'Census_OSVersion'] not in index\""
     ]
    }
   ],
   "source": [
    "# ==================================================================================================================\n",
    "# ===========================================> Ordenar variables <==================================================\n",
    "# ==================================================================================================================\n",
    "\n",
    "ordered_columns = cat_cols+numeric_cols\n",
    "datos = datos[ordered_columns+['HasDetections']]"
   ]
  },
  {
   "cell_type": "code",
   "execution_count": null,
   "metadata": {},
   "outputs": [],
   "source": [
    "# ==================================================================================================================\n",
    "# ===========================================> Codificar variables <================================================\n",
    "# ==================================================================================================================\n",
    "\n",
    "preprocessor = ColumnTransformer(\n",
    "                    [('onehot', OneHotEncoder(handle_unknown='ignore'), cat_cols)],\n",
    "                    remainder='passthrough')"
   ]
  },
  {
   "cell_type": "code",
   "execution_count": null,
   "metadata": {},
   "outputs": [],
   "source": [
    "# ==================================================================================================================\n",
    "# ===========================================> Train Test Split <===================================================\n",
    "# ==================================================================================================================\n",
    "\n",
    "X_train, X_test, y_train, y_test = train_test_split(\n",
    "                                        datos.drop(columns = 'HasDetections')[ordered_columns],\n",
    "                                        datos['HasDetections'],\n",
    "                                        random_state = 123)\n",
    "\n",
    "X_train_prep = preprocessor.fit_transform(X_train)\n",
    "X_test_prep  = preprocessor.transform(X_test)\n",
    "\n",
    "encoded_cat = preprocessor.named_transformers_['onehot'].get_feature_names_out(cat_cols)\n",
    "labels = np.concatenate([encoded_cat, numeric_cols])\n",
    "\n",
    "X_train_prep = pd.DataFrame(X_train_prep.toarray(), columns=labels)\n",
    "X_test_prep  = pd.DataFrame(X_test_prep.toarray(), columns=labels)\n",
    "X_train_prep.info()"
   ]
  },
  {
   "cell_type": "code",
   "execution_count": null,
   "metadata": {},
   "outputs": [],
   "source": [
    "# ==================================================================================================================\n",
    "# ===========================================> Modelo <=============================================================\n",
    "# ==================================================================================================================\n",
    "\n",
    "modelo = DecisionTreeClassifier(criterion= \"entropy\", max_depth=5, min_samples_leaf=3, random_state = 123)\n",
    "\n",
    "modelo.fit(X_train_prep, y_train)\n",
    "\n",
    "fig, ax = plt.subplots(figsize=(16, 6))\n",
    "\n",
    "plot = plot_tree(\n",
    "            decision_tree = modelo,\n",
    "            feature_names = labels.tolist(),\n",
    "            class_names   = 'HasDetections',\n",
    "            filled        = True,\n",
    "            impurity      = False,\n",
    "            fontsize      = 7,\n",
    "            ax            = ax)"
   ]
  },
  {
   "cell_type": "code",
   "execution_count": null,
   "metadata": {},
   "outputs": [],
   "source": [
    "predicciones = modelo.predict(X = X_test_prep)\n",
    "pred_proba = modelo.predict_proba(X = X_test_prep)"
   ]
  },
  {
   "cell_type": "code",
   "execution_count": null,
   "metadata": {},
   "outputs": [],
   "source": [
    "importancia_predictores = pd.DataFrame({\n",
    "    \"predictor\": labels.tolist(),\n",
    "    \"importancia\": modelo.feature_importances_\n",
    "})\n",
    "\n",
    "fig, ax = plt.subplots(figsize=(16, 6))\n",
    "\n",
    "importancia_predictores.set_index(\"predictor\").sort_values(\"importancia\", ascending=True)[10:].plot(kind=\"barh\", ax=ax)\n"
   ]
  },
  {
   "cell_type": "code",
   "execution_count": null,
   "metadata": {},
   "outputs": [],
   "source": [
    "predicciones = modelo.predict(X = X_test_prep,)\n",
    "pred_proba = modelo.predict_proba(X = X_test_prep)\n",
    "\n",
    "data = confusion_matrix(y_test, predicciones)\n",
    "\n",
    "print(\"Matriz de confusión\")\n",
    "plt.figure(figsize = (6,5))\n",
    "sns.set(font_scale=1.4) #for label size\n",
    "sns.heatmap(data, cmap=\"Blues\", annot=True, annot_kws={\"size\": 12})\n"
   ]
  },
  {
   "cell_type": "code",
   "execution_count": null,
   "metadata": {},
   "outputs": [],
   "source": [
    "print(f'Accuracy: {round(100*accuracy_score(y_test, predicciones),1)}%')"
   ]
  },
  {
   "cell_type": "code",
   "execution_count": null,
   "metadata": {},
   "outputs": [],
   "source": [
    "print(classification_report(y_test, predicciones, digits=3, zero_division=True))"
   ]
  },
  {
   "cell_type": "code",
   "execution_count": null,
   "metadata": {},
   "outputs": [],
   "source": [
    "fpr, tpr, _ = roc_curve(y_test, pred_proba[:,1])\n",
    "roc_auc = auc(fpr, tpr)\n",
    "\n",
    "plt.figure(figsize = (6,5))\n",
    "lw = 2\n",
    "plt.plot(fpr, tpr, color='darkorange',\n",
    "         lw=lw, label='ROC curve (area = %0.2f)' % roc_auc)\n",
    "plt.plot([0, 1], [0, 1], color='navy', lw=lw, linestyle='--')\n",
    "plt.xlim([0.0, 1.0])\n",
    "plt.ylim([0.0, 1.05])\n",
    "plt.xlabel('False Positive Rate')\n",
    "plt.ylabel('True Positive Rate')\n",
    "plt.title('Receiver operating characteristic example')\n",
    "plt.legend(loc=\"lower right\")\n",
    "plt.show()"
   ]
  },
  {
   "cell_type": "code",
   "execution_count": null,
   "metadata": {},
   "outputs": [],
   "source": [
    "# ==================================================================================================================\n",
    "# ===========================================> Procesar Unique Tipos Cat <==========================================\n",
    "# ==================================================================================================================\n",
    "\n",
    "#typed_min_unique = 10\n",
    "#typed_cols = []\n",
    "\n",
    "#for c in datos.columns:\n",
    "#    if ((datos[c].nunique() / datos[c].count()) * 100) <= typed_min_unique:\n",
    "#        typed_cols.append(c)\n",
    "        \n",
    "#for c in typed_cols:\n",
    "#    datos[c] = datos[c].astype(\"category\")\n",
    "\n",
    "#print(typed_cols)"
   ]
  },
  {
   "cell_type": "code",
   "execution_count": null,
   "metadata": {},
   "outputs": [],
   "source": [
    "# ==================================================================================================================\n",
    "# ===========================================> Procesar Object Tipos Cat <==========================================\n",
    "# ==================================================================================================================\n",
    "\n",
    "#typed_cols = []\n",
    "#cat_cols = []\n",
    "\n",
    "#for c in datos.columns:\n",
    "#    if datos[c].dtype == \"object\":\n",
    "#        typed_cols.append(c)\n",
    "#        cat_cols.append(c)\n",
    "        \n",
    "#for c in typed_cols:\n",
    "#   datos[c] = datos[c].astype(\"category\")\n",
    "\n",
    "#datos[\"HasDetections\"] = datos[\"HasDetections\"].astype(int)\n",
    "\n",
    "#print(typed_cols)"
   ]
  },
  {
   "cell_type": "code",
   "execution_count": null,
   "metadata": {},
   "outputs": [],
   "source": [
    "#from sklearn.compose import ColumnTransformer\n",
    "\n",
    "\n",
    "#from sklearn.model_selection import train_test_split\n",
    "#from sklearn.ensemble import RandomForestClassifier\n",
    "#from sklearn.metrics import accuracy_score\n",
    "\n",
    "\n",
    "# Dividir los datos en características (X) y etiquetas (y)\n",
    "#X = datostos.drop('HasDetections', axis=1)\n",
    "#y = datos['HasDetections']\n",
    "\n",
    "# Dividir los datos en conjuntos de entrenamiento y prueba\n",
    "#X_train, X_test, y_train, y_test = train_test_split(X, y, test_size=0.2, random_state=42)\n",
    "\n",
    "# Entrenar un modelo (por ejemplo, RandomForestClassifier)\n",
    "#model = RandomForestClassifier()\n",
    "#model.fit(X_train, y_train)\n",
    "\n",
    "\n",
    "# Realizar predicciones en el conjunto de prueba\n",
    "#y_pred = model.predict(X_test)\n",
    "\n",
    "# Calcular la precisión del modelo\n",
    "#accuracy = accuracy_score(y_test, y_pred)\n",
    "#print(f\"Precisión del modelo: {accuracy}\")\n"
   ]
  },
  {
   "attachments": {},
   "cell_type": "markdown",
   "metadata": {},
   "source": [
    "\n",
    "cat_cols = datos.select_dtypes(include=['object', 'category']).columns.to_list()\n",
    "numeric_cols = datos.select_dtypes(include=['float64', 'int64']).columns.to_list()\n",
    "\n",
    "preprocessor = ColumnTransformer(\n",
    "                    [('onehot', OneHotEncoder(handle_unknown='ignore'), cat_cols)],\n",
    "                    remainder='passthrough')\n",
    "\n",
    "X_train, X_test, y_train, y_test = train_test_split(\n",
    "                                        datos.drop(columns = 'HasDetections'),\n",
    "                                        datos['HasDetections'],\n",
    "                                        random_state = 123)\n",
    "\n",
    "X_train_prep = preprocessor.fit_transform(X_train)\n",
    "X_test_prep  = preprocessor.transform(X_test)\n",
    "\n",
    "encoded_cat = preprocessor.named_transformers_['onehot'].get_feature_names_out(cat_cols)\n",
    "labels = np.concatenate([cat_cols, numeric_cols])\n",
    "\n",
    "# Conversión a dataframe\n",
    "X_train_prep = pd.DataFrame(X_train_prep.toarray(), columns=labels)\n",
    "X_test_prep  = pd.DataFrame(X_test_prep.toarray(), columns=labels)\n",
    "X_train_prep.info()\n",
    "\n",
    "modelo = DecisionTreeClassifier(max_depth=3, random_state = 123)\n",
    "\n",
    "modelo.fit(X_train_prep, y_train)\n",
    "\n",
    "# Estructura del árbol creado\n",
    "# ------------------------------------------------------------------------------\n",
    "fig, ax = plt.subplots(figsize=(16, 6))\n",
    "\n",
    "print(f\"Profundidad del árbol: {modelo.get_depth()}\")\n",
    "print(f\"Número de nodos terminales: {modelo.get_n_leaves()}\")\n",
    "\n",
    "#plot = plot_tree(\n",
    "#            decision_tree = modelo,\n",
    "#            feature_names = labels.tolist(),\n",
    "#            class_names   = 'HasDetections',\n",
    "#            filled        = True,\n",
    "#            impurity      = False,\n",
    "#            fontsize      = 7,\n",
    "#            ax            = ax)"
   ]
  }
 ],
 "metadata": {
  "kernelspec": {
   "display_name": "Python 3",
   "language": "python",
   "name": "python3"
  },
  "language_info": {
   "codemirror_mode": {
    "name": "ipython",
    "version": 3
   },
   "file_extension": ".py",
   "mimetype": "text/x-python",
   "name": "python",
   "nbconvert_exporter": "python",
   "pygments_lexer": "ipython3",
   "version": "3.11.4"
  },
  "orig_nbformat": 4
 },
 "nbformat": 4,
 "nbformat_minor": 2
}
